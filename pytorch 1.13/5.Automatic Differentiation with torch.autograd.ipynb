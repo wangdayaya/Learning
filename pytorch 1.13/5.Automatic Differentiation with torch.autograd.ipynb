{
 "cells": [
  {
   "cell_type": "code",
   "execution_count": 16,
   "id": "597a52b9-01c4-4b13-8aa7-4a68bfe341f1",
   "metadata": {},
   "outputs": [
    {
     "name": "stdout",
     "output_type": "stream",
     "text": [
      "w tensor([[ 0.4484,  1.3778,  2.2954],\n",
      "        [-2.1837, -0.0734,  2.1886],\n",
      "        [ 1.3695,  1.0754,  1.1764],\n",
      "        [-0.7611, -0.1212, -2.1143],\n",
      "        [-0.2216,  1.6680,  0.1538]], requires_grad=True)\n",
      "b tensor([ 0.3694, -0.0062, -0.9621], requires_grad=True)\n",
      "z tensor([ 1.7178, -3.9328, -4.6619], grad_fn=<AddBackward0>)\n",
      "loss tensor(13.3838, grad_fn=<MseLossBackward0>)\n",
      "<AddBackward0 object at 0x0000023597C52100>\n",
      "<MseLossBackward0 object at 0x0000023597DC4850>\n"
     ]
    }
   ],
   "source": [
    "import torch\n",
    "\n",
    "x = -1 * torch.ones(5)\n",
    "y = torch.zeros(3)\n",
    "w = torch.randn(5, 3, requires_grad=True)\n",
    "b = torch.randn(3, requires_grad=True)\n",
    "z = torch.matmul(x, w) + b\n",
    "loss = torch.nn.functional.mse_loss(z, y)\n",
    "print(\"w\",w)\n",
    "print(\"b\",b)\n",
    "print(\"z\",z)\n",
    "print(\"loss\", loss)\n",
    "print(z.grad_fn)\n",
    "print(loss.grad_fn)"
   ]
  },
  {
   "cell_type": "code",
   "execution_count": 18,
   "id": "ef388a46-15e9-4c4a-9938-758a35d3638d",
   "metadata": {},
   "outputs": [
    {
     "name": "stdout",
     "output_type": "stream",
     "text": [
      "tensor([[-1.1452,  2.6219,  3.1080],\n",
      "        [-1.1452,  2.6219,  3.1080],\n",
      "        [-1.1452,  2.6219,  3.1080],\n",
      "        [-1.1452,  2.6219,  3.1080],\n",
      "        [-1.1452,  2.6219,  3.1080]])\n",
      "tensor([ 1.1452, -2.6219, -3.1080])\n"
     ]
    }
   ],
   "source": [
    "loss.backward()\n",
    "print(w.grad)\n",
    "print(b.grad)"
   ]
  },
  {
   "cell_type": "markdown",
   "id": "17222f1b-262a-43fb-871d-25f27935f331",
   "metadata": {},
   "source": [
    "# Disabling Gradient Tracking"
   ]
  },
  {
   "cell_type": "code",
   "execution_count": 21,
   "id": "bfdaabd7-1626-441a-8e55-ad74934d2c4d",
   "metadata": {},
   "outputs": [
    {
     "name": "stdout",
     "output_type": "stream",
     "text": [
      "True\n",
      "False\n"
     ]
    }
   ],
   "source": [
    "z = torch.matmul(x, w) + b\n",
    "print(z.requires_grad)\n",
    "\n",
    "with torch.no_grad():\n",
    "    z = torch.matmul(x, w) + b\n",
    "print(z.requires_grad)"
   ]
  },
  {
   "cell_type": "code",
   "execution_count": 23,
   "id": "7b37504f-8d2a-47fa-93c3-6f5096f1b0aa",
   "metadata": {},
   "outputs": [
    {
     "name": "stdout",
     "output_type": "stream",
     "text": [
      "False\n"
     ]
    }
   ],
   "source": [
    "z = torch.matmul(x, w) + b\n",
    "z_det = z.detach()\n",
    "print(z_det.requires_grad)"
   ]
  },
  {
   "cell_type": "markdown",
   "id": "45d0ef9f-8aa4-4020-849a-6976127e9eee",
   "metadata": {},
   "source": [
    "# Optional Reading: Tensor Gradients and Jacobian Products"
   ]
  },
  {
   "cell_type": "code",
   "execution_count": 57,
   "id": "f43478a2-2c42-455b-ac10-1d5291d03d41",
   "metadata": {},
   "outputs": [
    {
     "name": "stdout",
     "output_type": "stream",
     "text": [
      "inp\n",
      "tensor([[1., 0., 0., 0., 0.],\n",
      "        [0., 1., 0., 0., 0.],\n",
      "        [0., 0., 1., 0., 0.],\n",
      "        [0., 0., 0., 1., 0.]], requires_grad=True)\n",
      "out\n",
      "tensor([[4., 1., 1., 1.],\n",
      "        [1., 4., 1., 1.],\n",
      "        [1., 1., 4., 1.],\n",
      "        [1., 1., 1., 4.],\n",
      "        [1., 1., 1., 1.]], grad_fn=<TBackward0>)\n",
      "First call inp.grad\n",
      "tensor([[4., 2., 2., 2., 2.],\n",
      "        [2., 4., 2., 2., 2.],\n",
      "        [2., 2., 4., 2., 2.],\n",
      "        [2., 2., 2., 4., 2.]])\n"
     ]
    }
   ],
   "source": [
    "inp = torch.eye(4, 5, requires_grad=True)\n",
    "out = (inp + 1).pow(2).t()\n",
    "out.backward(torch.ones_like(out), retain_graph=True)\n",
    "print(f\"inp\\n{inp}\")\n",
    "print(f\"out\\n{out}\")\n",
    "print(f\"First call inp.grad\\n{inp.grad}\")"
   ]
  },
  {
   "cell_type": "code",
   "execution_count": 59,
   "id": "c09c588b-627c-4d26-ba18-4cde91653347",
   "metadata": {},
   "outputs": [
    {
     "name": "stdout",
     "output_type": "stream",
     "text": [
      "Second call inp.grad\n",
      "tensor([[8., 4., 4., 4., 4.],\n",
      "        [4., 8., 4., 4., 4.],\n",
      "        [4., 4., 8., 4., 4.],\n",
      "        [4., 4., 4., 8., 4.]])\n",
      "third call inp.grad\n",
      "tensor([[12.,  6.,  6.,  6.,  6.],\n",
      "        [ 6., 12.,  6.,  6.,  6.],\n",
      "        [ 6.,  6., 12.,  6.,  6.],\n",
      "        [ 6.,  6.,  6., 12.,  6.]])\n"
     ]
    }
   ],
   "source": [
    "out.backward(torch.ones_like(out), retain_graph=True)\n",
    "print(f\"Second call inp.grad\\n{inp.grad}\")\n",
    "\n",
    "out.backward(torch.ones_like(out), retain_graph=True)\n",
    "print(f\"third call inp.grad\\n{inp.grad}\")"
   ]
  },
  {
   "cell_type": "code",
   "execution_count": 61,
   "id": "4eed9225-91f0-46fc-a43e-37d15cc1d05f",
   "metadata": {},
   "outputs": [
    {
     "name": "stdout",
     "output_type": "stream",
     "text": [
      "\n",
      "Call after zeroing gradients\n",
      "tensor([[4., 2., 2., 2., 2.],\n",
      "        [2., 4., 2., 2., 2.],\n",
      "        [2., 2., 4., 2., 2.],\n",
      "        [2., 2., 2., 4., 2.]])\n"
     ]
    }
   ],
   "source": [
    "inp.grad.zero_()\n",
    "out.backward(torch.ones_like(out), retain_graph=True)\n",
    "print(f\"\\nCall after zeroing gradients\\n{inp.grad}\")"
   ]
  },
  {
   "cell_type": "code",
   "execution_count": null,
   "id": "d1690be7-1106-4b87-84f2-b6414ecf46d7",
   "metadata": {},
   "outputs": [],
   "source": []
  }
 ],
 "metadata": {
  "kernelspec": {
   "display_name": "torch-1.13.1-py-3.8",
   "language": "python",
   "name": "torch-1.13.1-py-3.8"
  },
  "language_info": {
   "codemirror_mode": {
    "name": "ipython",
    "version": 3
   },
   "file_extension": ".py",
   "mimetype": "text/x-python",
   "name": "python",
   "nbconvert_exporter": "python",
   "pygments_lexer": "ipython3",
   "version": "3.8.16"
  }
 },
 "nbformat": 4,
 "nbformat_minor": 5
}
