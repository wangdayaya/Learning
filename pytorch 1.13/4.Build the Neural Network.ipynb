{
 "cells": [
  {
   "cell_type": "code",
   "execution_count": 1,
   "id": "5395c564-b4bc-4802-83eb-3ef2a75d6256",
   "metadata": {},
   "outputs": [
    {
     "name": "stderr",
     "output_type": "stream",
     "text": [
      "D:\\anaconda\\envs\\torch-1.13.1-py-3.8\\Lib\\site-packages\\tqdm\\auto.py:21: TqdmWarning: IProgress not found. Please update jupyter and ipywidgets. See https://ipywidgets.readthedocs.io/en/stable/user_install.html\n",
      "  from .autonotebook import tqdm as notebook_tqdm\n"
     ]
    }
   ],
   "source": [
    "import os\n",
    "import torch\n",
    "from torch import nn\n",
    "from torch.utils.data import DataLoader\n",
    "from torchvision import datasets, transforms"
   ]
  },
  {
   "cell_type": "markdown",
   "id": "d0e90d09-4845-4d07-b3a5-c17c8ab2ecc4",
   "metadata": {},
   "source": [
    "# Get Device for Training"
   ]
  },
  {
   "cell_type": "code",
   "execution_count": 3,
   "id": "276617a0-3db6-4c12-a51e-9f414a716db1",
   "metadata": {},
   "outputs": [
    {
     "name": "stdout",
     "output_type": "stream",
     "text": [
      "using cuda\n"
     ]
    }
   ],
   "source": [
    "device = \"cuda\" if torch.cuda.is_available() else \"mps\" if torch.backends.mps.is_available() else \"cpu\"\n",
    "print(f\"using {device}\")"
   ]
  },
  {
   "cell_type": "markdown",
   "id": "3bdb5fa4-afb8-4b65-9289-be8dae3c5506",
   "metadata": {},
   "source": [
    "# Define the Class"
   ]
  },
  {
   "cell_type": "markdown",
   "id": "2a773dbd-cb3a-47b0-aabb-434731500e46",
   "metadata": {},
   "source": [
    "在 Python 类的定义中，`__init__` 方法是一个特殊的方法，被称为类的构造器或初始化方法。当创建类的新实例时，`__init__` 方法会被自动调用，以初始化新对象的状态。\n",
    "\n",
    "```python\n",
    "def __init__(self):\n",
    "    super().__init__()\n",
    "```\n",
    "\n",
    "这段代码中的 `super().__init__()` 调用了父类（超类）的 `__init__` 方法。在面向对象编程中，一个类可以继承自另一个类，`super()` 函数用于调用父类的方法。这行代码的作用是确保父类也被正确地初始化。\n",
    "\n",
    "### 为什么使用 `super().__init__()`？\n",
    "\n",
    "1. **父类初始化**：\n",
    "   - 如果父类中有一些需要初始化的操作（如属性设置、资源分配等），`super().__init__()` 确保这些操作在子类实例化时也被执行。\n",
    "\n",
    "2. **代码复用**：\n",
    "   - 使用 `super()` 可以避免在每个子类中重复编写相同的初始化代码，从而提高代码的复用性和可维护性。\n",
    "\n",
    "3. **维持继承结构**：\n",
    "   - 在一个继承体系中，`super()` 确保了所有父类都会被正确地初始化，维持了类的继承结构。\n",
    "\n",
    "### 不加 `super().__init__()` 行不行？\n",
    "\n",
    "是否需要调用 `super().__init__()` 取决于父类中是否有需要执行的初始化代码。如果父类中的 `__init__` 方法是空的，或者仅仅做一些子类不需要的初始化工作，那么在子类中不调用 `super().__init__()` 也是可以的。\n",
    "\n",
    "然而，如果父类中的 `__init__` 方法执行了一些必要的初始化操作（如初始化重要的属性或资源），那么在子类中不调用 `super().__init__()` 可能会导致这些必要的初始化被跳过，从而引发运行时错误或不稳定的行为。\n",
    "\n",
    "### 示例\n",
    "\n",
    "假设有一个父类 `Parent` 和一个子类 `Child`：\n",
    "\n",
    "```python\n",
    "class Parent:\n",
    "    def __init__(self):\n",
    "        print(\"Parent's __init__ is called\")\n",
    "\n",
    "class Child(Parent):\n",
    "    def __init__(self):\n",
    "        super().__init__()\n",
    "        print(\"Child's __init__ is called\")\n",
    "```\n",
    "\n",
    "在这个例子中，当创建 `Child` 类的实例时，会先调用 `Parent` 类的 `__init__` 方法，然后再调用 `Child` 类的 `__init__` 方法：\n",
    "\n",
    "```python\n",
    "child_instance = Child()\n",
    "# 输出：\n",
    "# Parent's __init__ is called\n",
    "# Child's __init__ is called\n",
    "```\n",
    "\n",
    "如果不在 `Child` 类中调用 `super().__init__()`，则只会调用 `Child` 类的 `__init__` 方法，而 `Parent` 类的初始化代码将不会被执行。\n",
    "\n",
    "总之，`super().__init__()` 是一种良好的编程实践，它确保了父类的初始化代码在子类实例化时被正确执行，有助于维护代码的健壮性和可维护性。\n"
   ]
  },
  {
   "cell_type": "code",
   "execution_count": 23,
   "id": "53c9769f-9fed-4eb2-a8b8-28415b06f50d",
   "metadata": {},
   "outputs": [],
   "source": [
    "class NeuralNetwork(nn.Module):\n",
    "    def __init__(self):\n",
    "        super().__init__()\n",
    "        self.flatten = nn.Flatten()\n",
    "        self.linear_relu_stack = nn.Sequential(\n",
    "            nn.Linear(28*28, 512),\n",
    "            nn.ReLU(),\n",
    "            nn.Linear(512, 512),\n",
    "            nn.ReLU(),\n",
    "            nn.Linear(512, 10)\n",
    "        )\n",
    "\n",
    "\n",
    "    def forward(self, x):\n",
    "        x = self.flatten(x)\n",
    "        logits = self.linear_relu_stack(x)\n",
    "        return logits"
   ]
  },
  {
   "cell_type": "code",
   "execution_count": 25,
   "id": "648b9f57-2daa-4c00-ae4d-a9595ae56a67",
   "metadata": {},
   "outputs": [
    {
     "name": "stdout",
     "output_type": "stream",
     "text": [
      "NeuralNetwork(\n",
      "  (flatten): Flatten(start_dim=1, end_dim=-1)\n",
      "  (linear_relu_stack): Sequential(\n",
      "    (0): Linear(in_features=784, out_features=512, bias=True)\n",
      "    (1): ReLU()\n",
      "    (2): Linear(in_features=512, out_features=512, bias=True)\n",
      "    (3): ReLU()\n",
      "    (4): Linear(in_features=512, out_features=10, bias=True)\n",
      "  )\n",
      ")\n"
     ]
    }
   ],
   "source": [
    "model = NeuralNetwork().to(device)\n",
    "print(model)"
   ]
  },
  {
   "cell_type": "code",
   "execution_count": 52,
   "id": "b49f84d3-a760-487b-a4ad-d35d0c57dd37",
   "metadata": {},
   "outputs": [
    {
     "name": "stdout",
     "output_type": "stream",
     "text": [
      "torch.Size([1, 10]) tensor([[-0.0408,  0.1115, -0.0712, -0.0657,  0.1072,  0.0135, -0.0684, -0.0252,\n",
      "          0.0398, -0.0970]], device='cuda:0', grad_fn=<AddmmBackward0>)\n",
      "torch.Size([1, 10]) tensor([[0.0967, 0.1126, 0.0938, 0.0943, 0.1121, 0.1021, 0.0941, 0.0982, 0.1048,\n",
      "         0.0914]], device='cuda:0', grad_fn=<SoftmaxBackward0>)\n",
      "Predicted class: 1\n"
     ]
    }
   ],
   "source": [
    "X = torch.rand(1, 28,28, device=device)\n",
    "logits = model(X)\n",
    "print(logits.shape, logits)\n",
    "pred_probab = nn.Softmax(dim=1)(logits)\n",
    "print(pred_probab.shape, pred_probab)\n",
    "y_pred = pred_probab.argmax()\n",
    "print(f\"Predicted class: {y_pred}\")"
   ]
  },
  {
   "cell_type": "markdown",
   "id": "e117bab9-7a59-4052-a297-bba2361c02c2",
   "metadata": {},
   "source": [
    "<!-- Model Parameters -->"
   ]
  },
  {
   "cell_type": "markdown",
   "id": "c4c6db60-0975-4005-ad5b-356aa226f115",
   "metadata": {},
   "source": [
    "# Model Parameters"
   ]
  },
  {
   "cell_type": "code",
   "execution_count": 56,
   "id": "1e5f4a9e-804c-49ac-a65f-1a0a6e97df91",
   "metadata": {},
   "outputs": [
    {
     "name": "stdout",
     "output_type": "stream",
     "text": [
      "Layer: linear_relu_stack.0.weight | Size: torch.Size([512, 784]) | Values : tensor([[-0.0229, -0.0067, -0.0127,  ..., -0.0337,  0.0091, -0.0201],\n",
      "        [ 0.0116, -0.0164, -0.0231,  ..., -0.0164, -0.0296, -0.0298]],\n",
      "       device='cuda:0', grad_fn=<SliceBackward0>) \n",
      "\n",
      "Layer: linear_relu_stack.0.bias | Size: torch.Size([512]) | Values : tensor([-0.0222, -0.0061], device='cuda:0', grad_fn=<SliceBackward0>) \n",
      "\n",
      "Layer: linear_relu_stack.2.weight | Size: torch.Size([512, 512]) | Values : tensor([[ 0.0200, -0.0060, -0.0222,  ...,  0.0062, -0.0350, -0.0167],\n",
      "        [-0.0271,  0.0331,  0.0311,  ..., -0.0182, -0.0204, -0.0333]],\n",
      "       device='cuda:0', grad_fn=<SliceBackward0>) \n",
      "\n",
      "Layer: linear_relu_stack.2.bias | Size: torch.Size([512]) | Values : tensor([ 0.0329, -0.0095], device='cuda:0', grad_fn=<SliceBackward0>) \n",
      "\n",
      "Layer: linear_relu_stack.4.weight | Size: torch.Size([10, 512]) | Values : tensor([[-0.0029, -0.0069, -0.0117,  ...,  0.0286, -0.0289,  0.0275],\n",
      "        [-0.0323,  0.0325, -0.0084,  ..., -0.0422, -0.0361,  0.0006]],\n",
      "       device='cuda:0', grad_fn=<SliceBackward0>) \n",
      "\n",
      "Layer: linear_relu_stack.4.bias | Size: torch.Size([10]) | Values : tensor([-0.0123,  0.0384], device='cuda:0', grad_fn=<SliceBackward0>) \n",
      "\n"
     ]
    }
   ],
   "source": [
    "for name, param in model.named_parameters():\n",
    "    print(f\"Layer: {name} | Size: {param.size()} | Values : {param[:2]} \\n\")"
   ]
  },
  {
   "cell_type": "code",
   "execution_count": null,
   "id": "215a037c-2c80-41c6-ba34-7739e0fad844",
   "metadata": {},
   "outputs": [],
   "source": []
  },
  {
   "cell_type": "code",
   "execution_count": null,
   "id": "81b2b382-7bb6-4c6a-93c4-3657bd494824",
   "metadata": {},
   "outputs": [],
   "source": []
  }
 ],
 "metadata": {
  "kernelspec": {
   "display_name": "torch-1.13.1-py-3.8",
   "language": "python",
   "name": "torch-1.13.1-py-3.8"
  },
  "language_info": {
   "codemirror_mode": {
    "name": "ipython",
    "version": 3
   },
   "file_extension": ".py",
   "mimetype": "text/x-python",
   "name": "python",
   "nbconvert_exporter": "python",
   "pygments_lexer": "ipython3",
   "version": "3.8.16"
  }
 },
 "nbformat": 4,
 "nbformat_minor": 5
}
