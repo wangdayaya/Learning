{
 "cells": [
  {
   "cell_type": "code",
   "execution_count": 3,
   "id": "24b68729-7385-4410-9e82-0296c8b7e5c7",
   "metadata": {},
   "outputs": [
    {
     "name": "stdout",
     "output_type": "stream",
     "text": [
      "n_letters:57\n",
      "n_categories:18\n",
      "len of category_lines:18\n",
      "len of all_categories:18\n",
      "['Abandonato', 'Abatangelo', 'Abatantuono', 'Abate', 'Abategiovanni']\n",
      "O'Neal\n"
     ]
    }
   ],
   "source": [
    "from io import open\n",
    "import glob\n",
    "import os\n",
    "import unicodedata\n",
    "import string\n",
    "\n",
    "def findFiles(path): return glob.glob(path)\n",
    "all_letters = string.ascii_letters + \" .,;'\"\n",
    "n_letters = len(all_letters)\n",
    "print(f\"n_letters:{n_letters}\")\n",
    "# Turn a Unicode string to plain ASCII, thanks to https://stackoverflow.com/a/518232/2809427\n",
    "def unicodeToAscii(s):\n",
    "    return ''.join(c for c in unicodedata.normalize('NFD', s) if unicodedata.category(c) != 'Mn' and c in all_letters )\n",
    "\n",
    "# Build the category_lines dictionary, a list of names per language\n",
    "category_lines = {}\n",
    "all_categories = []\n",
    "\n",
    "# Read a file and split into lines\n",
    "def readLines(filename):\n",
    "    lines = open(filename, encoding='utf-8').read().strip().split('\\n')\n",
    "    return [unicodeToAscii(line) for line in lines]\n",
    "\n",
    "for filename in findFiles('data/data/names/*.txt'):\n",
    "    category = os.path.splitext(os.path.basename(filename))[0]\n",
    "    all_categories.append(category)\n",
    "    lines = readLines(filename)\n",
    "    category_lines[category] = lines\n",
    "\n",
    "n_categories = len(all_categories)\n",
    "print(f\"n_categories:{n_categories}\")\n",
    "print(f\"len of category_lines:{len(category_lines)}\")\n",
    "print(f\"len of all_categories:{len(all_categories)}\")\n",
    "print(category_lines['Italian'][:5])\n",
    "print(unicodeToAscii(\"O'Néàl\"))"
   ]
  },
  {
   "cell_type": "markdown",
   "id": "99ca3ae9-63b9-49b1-8741-b5384094c03f",
   "metadata": {},
   "source": [
    "# Creating the Network"
   ]
  },
  {
   "cell_type": "code",
   "execution_count": 91,
   "id": "c174f026-29b8-45c3-a4e0-ea05a9ccb44f",
   "metadata": {},
   "outputs": [],
   "source": [
    "import torch\n",
    "import torch.nn as nn\n",
    "\n",
    "class RNN(nn.Module):\n",
    "    def __init__(self, input_size, hidden_size, output_size):\n",
    "        super(RNN, self).__init__()\n",
    "        self.hidden_size = hidden_size\n",
    "        self.i2h = nn.Linear(n_categories + input_size + hidden_size, hidden_size)\n",
    "        self.i2o = nn.Linear(n_categories + input_size + hidden_size, output_size)\n",
    "        self.o2o = nn.Linear(hidden_size + output_size, output_size)\n",
    "        self.dropout = nn.Dropout(0.1)\n",
    "        self.softmax = nn.LogSoftmax(dim=1)\n",
    "\n",
    "    def forward(self, category, input, hidden):   # [1, 18]，[1, 57]，[1,128]\n",
    "        input_combined = torch.cat((category, input, hidden), 1)  # [1, 203]\n",
    "        hidden = self.i2h(input_combined)  # [1, 128]\n",
    "        output = self.i2o(input_combined) # [1, 57]\n",
    "        output_combined = torch.cat((hidden, output), 1) # [1, 185]  \n",
    "        output = self.o2o(output_combined)  # [1, 57]\n",
    "        output = self.dropout(output)  # [1, 57]\n",
    "        output = self.softmax(output)  # [1, 57] \n",
    "        return output, hidden  # [1, 57]  [1, 128]\n",
    "        \n",
    "    def initHidden(self):\n",
    "        return torch.zeros(1, self.hidden_size)"
   ]
  },
  {
   "cell_type": "code",
   "execution_count": null,
   "id": "0a0b729a-1040-495f-915a-86b6b9d287d5",
   "metadata": {},
   "outputs": [],
   "source": []
  },
  {
   "cell_type": "markdown",
   "id": "c38e7640-b0e4-4a0f-9e1e-09ffb8766448",
   "metadata": {},
   "source": [
    "# Preparing for Training"
   ]
  },
  {
   "cell_type": "code",
   "execution_count": 93,
   "id": "9c45502c-dd2f-4e85-ae43-ef36cca87117",
   "metadata": {},
   "outputs": [],
   "source": [
    "import random\n",
    "\n",
    "def randomChoice(l):\n",
    "    return l[random.randint(0, len(l) - 1)]\n",
    "\n",
    "def randomTraningPair():\n",
    "    category = randomChoice(all_categories)\n",
    "    line = randomChoice(category_lines[category])\n",
    "    return category, line\n",
    "\n",
    "def categoryTensor(category):\n",
    "    li = all_categories.index(category)\n",
    "    tensor = torch.zeros(1, n_categories)\n",
    "    tensor[0][li] = 1\n",
    "    return tensor\n",
    "\n",
    "def inputTensor(line):\n",
    "    tensor = torch.zeros(len(line), 1, n_letters)  # [S, 1, D]\n",
    "    for li in range(len(line)):\n",
    "        letter = line[li]\n",
    "        tensor[li][0][all_letters.find(letter)] = 1\n",
    "    return tensor\n",
    "\n",
    "def targetTensor(line):\n",
    "    letter_indexes = [all_letters.find(line[li]) for li in range(1, len(line))]\n",
    "    letter_indexes.append(n_letters - 1)  # EOS\n",
    "    return torch.LongTensor(letter_indexes)\n",
    "\n",
    "def randomTraningExample():\n",
    "    category, line = randomTraningPair()\n",
    "    category_tensor = categoryTensor(category)  # [1, 18]\n",
    "    input_line_tensor = inputTensor(line)  # [S, 1, 57]\n",
    "    target_line_tensor = targetTensor(line)  # [S]\n",
    "    return category_tensor, input_line_tensor, target_line_tensor\n",
    "    "
   ]
  },
  {
   "cell_type": "markdown",
   "id": "b8c48a01-a5a3-4fe8-b2bf-499b8438b465",
   "metadata": {},
   "source": [
    "# Training the Network"
   ]
  },
  {
   "cell_type": "code",
   "execution_count": 24,
   "id": "23bda37f-04c8-48a1-a309-91f92fc990fa",
   "metadata": {},
   "outputs": [
    {
     "name": "stdout",
     "output_type": "stream",
     "text": [
      "0m 9s (5000 5%) 2.7521\n",
      "0m 18s (10000 10%) 2.9174\n",
      "0m 27s (15000 15%) 3.1113\n",
      "0m 36s (20000 20%) 2.8135\n",
      "0m 45s (25000 25%) 2.5806\n",
      "0m 55s (30000 30%) 2.8577\n",
      "1m 4s (35000 35%) 2.9429\n",
      "1m 13s (40000 40%) 2.2619\n",
      "1m 22s (45000 45%) 2.9781\n",
      "1m 32s (50000 50%) 2.5362\n",
      "1m 41s (55000 55%) 3.0740\n",
      "1m 50s (60000 60%) 2.0296\n",
      "1m 59s (65000 65%) 2.7937\n",
      "2m 8s (70000 70%) 2.5811\n",
      "2m 18s (75000 75%) 2.1601\n",
      "2m 27s (80000 80%) 2.8350\n",
      "2m 36s (85000 85%) 3.1849\n",
      "2m 45s (90000 90%) 1.8386\n",
      "2m 54s (95000 95%) 1.9388\n",
      "3m 4s (100000 100%) 1.8875\n"
     ]
    }
   ],
   "source": [
    "criterion = nn.NLLLoss()\n",
    "learning_rate = 0.0005\n",
    "def train(category_tensor, input_line_tensor, target_line_tensor):\n",
    "    target_line_tensor.unsqueeze_(-1)\n",
    "    hidden = rnn.initHidden()\n",
    "    rnn.zero_grad()\n",
    "    loss = torch.Tensor([0])\n",
    "    for i in range(input_line_tensor.size(0)):\n",
    "        output, hidden = rnn(category_tensor, input_line_tensor[i], hidden)\n",
    "        loss += criterion(output, target_line_tensor[i])\n",
    "    loss.backward()\n",
    "    for p in rnn.parameters():\n",
    "        p.data.add_(p.grad.data, alpha=-learning_rate)\n",
    "    return output, loss.item() / input_line_tensor.size(0)\n",
    "    \n",
    "import time, math\n",
    "def timeSince(since):\n",
    "    now = time.time()\n",
    "    s = now - since\n",
    "    m = math.floor(s / 60)\n",
    "    s -= m * 60\n",
    "    return '%dm %ds' % (m, s)\n",
    "\n",
    "rnn = RNN(n_letters, 128, n_letters)\n",
    "n_iters = 100000\n",
    "print_every = 5000\n",
    "plot_every = 500\n",
    "all_losses = []\n",
    "total_loss = 0\n",
    "start = time.time()\n",
    "for iter in range(1, n_iters+1):\n",
    "    output, loss = train(*randomTraningExample())\n",
    "    total_loss += loss\n",
    "    if iter % print_every == 0:\n",
    "        print('%s (%d %d%%) %.4f' % (timeSince(start), iter, iter / n_iters * 100, loss))\n",
    "\n",
    "    if iter % plot_every == 0:\n",
    "        all_losses.append(total_loss / plot_every)\n",
    "        total_loss = 0"
   ]
  },
  {
   "cell_type": "code",
   "execution_count": 27,
   "id": "de37daed-6e33-41b3-9f27-aea578a7cb2e",
   "metadata": {},
   "outputs": [
    {
     "data": {
      "text/plain": [
       "[<matplotlib.lines.Line2D at 0x255e1c980d0>]"
      ]
     },
     "execution_count": 27,
     "metadata": {},
     "output_type": "execute_result"
    },
    {
     "data": {
      "image/png": "[encoded data removed]",
      "text/plain": [
       "<Figure size 640x480 with 1 Axes>"
      ]
     },
     "metadata": {},
     "output_type": "display_data"
    }
   ],
   "source": [
    "import matplotlib.pyplot as plt\n",
    "plt.figure()\n",
    "plt.plot(all_losses)"
   ]
  },
  {
   "cell_type": "markdown",
   "id": "269cde9a-c251-4d12-b21f-2a406746e276",
   "metadata": {},
   "source": [
    "# Sampling the Network"
   ]
  },
  {
   "cell_type": "code",
   "execution_count": 33,
   "id": "5342a9df-c526-44b5-b581-cd0823a40e5b",
   "metadata": {},
   "outputs": [
    {
     "name": "stdout",
     "output_type": "stream",
     "text": [
      "Ramanov\n",
      "Uakilov\n",
      "Sakovaki\n",
      "Cha\n",
      "Han\n",
      "Ian\n"
     ]
    }
   ],
   "source": [
    "max_length = 20\n",
    "def sample(category, start_letter='A'):\n",
    "    with torch.no_grad():\n",
    "        category_tensor = categoryTensor(category)\n",
    "        input = inputTensor(start_letter)\n",
    "        hidden = rnn.initHidden()\n",
    "        output_name = start_letter\n",
    "        for i in range(max_length):\n",
    "            output, hidden = rnn(category_tensor, input[0], hidden)\n",
    "            topv, topi = output.topk(1)\n",
    "            topi = topi[0][0]\n",
    "            if topi == n_letters - 1:\n",
    "                break\n",
    "            else:\n",
    "                letter = all_letters[topi]\n",
    "                output_name += letter\n",
    "            input = inputTensor(letter)\n",
    "        return output_name\n",
    "\n",
    "def samples(category, start_letters='ABC'):\n",
    "    for start_letter in start_letters:\n",
    "        print(sample(category, start_letter))\n",
    "\n",
    "samples('Russian', 'RUS')\n",
    "samples('Chinese', 'CHI')"
   ]
  },
  {
   "cell_type": "code",
   "execution_count": null,
   "id": "4acddbe3-e7e2-4813-a882-32dea9e1428f",
   "metadata": {},
   "outputs": [],
   "source": []
  }
 ],
 "metadata": {
  "kernelspec": {
   "display_name": "torch-1.13.1-py-3.8",
   "language": "python",
   "name": "torch-1.13.1-py-3.8"
  },
  "language_info": {
   "codemirror_mode": {
    "name": "ipython",
    "version": 3
   },
   "file_extension": ".py",
   "mimetype": "text/x-python",
   "name": "python",
   "nbconvert_exporter": "python",
   "pygments_lexer": "ipython3",
   "version": "3.8.16"
  }
 },
 "nbformat": 4,
 "nbformat_minor": 5
}
