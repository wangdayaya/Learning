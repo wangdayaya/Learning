{
 "cells": [
  {
   "cell_type": "code",
   "execution_count": 1,
   "id": "86cfe608-3f98-435d-b072-512634b17dd5",
   "metadata": {},
   "outputs": [
    {
     "name": "stderr",
     "output_type": "stream",
     "text": [
      "D:\\anaconda\\envs\\torch-1.13.1-py-3.8\\Lib\\site-packages\\tqdm\\auto.py:21: TqdmWarning: IProgress not found. Please update jupyter and ipywidgets. See https://ipywidgets.readthedocs.io/en/stable/user_install.html\n",
      "  from .autonotebook import tqdm as notebook_tqdm\n"
     ]
    }
   ],
   "source": [
    "import torch\n",
    "from torchvision import datasets\n",
    "from torchvision.transforms import ToTensor, Lambda\n",
    "\n",
    "ds = datasets.FashionMNIST(root=\"data\", \n",
    "                           train=True, \n",
    "                           download=True, \n",
    "                           transform=ToTensor(), \n",
    "                           target_transform=Lambda(lambda y:torch.zeros(10, dtype=torch.float).scatter_(dim=0, index=torch.tensor(y), value=1)))\n"
   ]
  },
  {
   "cell_type": "code",
   "execution_count": null,
   "id": "3250ee85-6ceb-4e59-9da9-7c8b6eebfe17",
   "metadata": {},
   "outputs": [],
   "source": []
  },
  {
   "cell_type": "code",
   "execution_count": null,
   "id": "cc8e0f97-161a-4790-a1a6-17aff6fee9f4",
   "metadata": {},
   "outputs": [],
   "source": []
  }
 ],
 "metadata": {
  "kernelspec": {
   "display_name": "torch-1.13.1-py-3.8",
   "language": "python",
   "name": "torch-1.13.1-py-3.8"
  },
  "language_info": {
   "codemirror_mode": {
    "name": "ipython",
    "version": 3
   },
   "file_extension": ".py",
   "mimetype": "text/x-python",
   "name": "python",
   "nbconvert_exporter": "python",
   "pygments_lexer": "ipython3",
   "version": "3.8.16"
  }
 },
 "nbformat": 4,
 "nbformat_minor": 5
}
