{
 "cells": [
  {
   "cell_type": "code",
   "execution_count": 1,
   "id": "35a6e9c8-74bc-4fdc-9633-3ead775c31ca",
   "metadata": {},
   "outputs": [
    {
     "name": "stderr",
     "output_type": "stream",
     "text": [
      "D:\\anaconda\\envs\\torch-1.13.1-py-3.8\\Lib\\site-packages\\tqdm\\auto.py:21: TqdmWarning: IProgress not found. Please update jupyter and ipywidgets. See https://ipywidgets.readthedocs.io/en/stable/user_install.html\n",
      "  from .autonotebook import tqdm as notebook_tqdm\n"
     ]
    }
   ],
   "source": [
    "import torch\n",
    "import torchvision.models as models"
   ]
  },
  {
   "cell_type": "markdown",
   "id": "54a80a70-5b9a-4bff-8c6d-7047e217c12d",
   "metadata": {},
   "source": [
    "# Saving and Loading Model Weights"
   ]
  },
  {
   "cell_type": "code",
   "execution_count": null,
   "id": "ebadaea8-4b3c-4515-ae6e-9244c9af2faf",
   "metadata": {},
   "outputs": [],
   "source": [
    "model = models.vgg16(weights=\"IMAGENET1K_V1\")\n",
    "torch.save(model.state_dict(), \"model_weights.pth\")\n",
    "\n",
    "\n",
    "model = models.vgg16()\n",
    "model.load_state_dict(torch.load('model_weights.pth', weights_only=True))\n",
    "model.eval()"
   ]
  },
  {
   "cell_type": "markdown",
   "id": "70c7daba-d0f9-4f2f-9e27-83b44c1368f2",
   "metadata": {},
   "source": [
    "# Saving and Loading Models with Shapes"
   ]
  },
  {
   "cell_type": "code",
   "execution_count": null,
   "id": "3165b3d3-037a-4733-a007-f9bccafb7954",
   "metadata": {},
   "outputs": [],
   "source": [
    "torch.save(model, 'model.pth')\n",
    "\n",
    "\n",
    "model = torch.load('model.pth', weights_only=False),"
   ]
  }
 ],
 "metadata": {
  "kernelspec": {
   "display_name": "torch-1.13.1-py-3.8",
   "language": "python",
   "name": "torch-1.13.1-py-3.8"
  },
  "language_info": {
   "codemirror_mode": {
    "name": "ipython",
    "version": 3
   },
   "file_extension": ".py",
   "mimetype": "text/x-python",
   "name": "python",
   "nbconvert_exporter": "python",
   "pygments_lexer": "ipython3",
   "version": "3.8.16"
  }
 },
 "nbformat": 4,
 "nbformat_minor": 5
}
